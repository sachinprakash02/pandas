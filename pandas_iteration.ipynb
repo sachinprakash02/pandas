{
 "cells": [
  {
   "cell_type": "code",
   "execution_count": 1,
   "metadata": {},
   "outputs": [],
   "source": [
    "import pandas as pd\n",
    "import numpy as np"
   ]
  },
  {
   "cell_type": "code",
   "execution_count": 2,
   "metadata": {},
   "outputs": [
    {
     "data": {
      "text/html": [
       "<div>\n",
       "<style scoped>\n",
       "    .dataframe tbody tr th:only-of-type {\n",
       "        vertical-align: middle;\n",
       "    }\n",
       "\n",
       "    .dataframe tbody tr th {\n",
       "        vertical-align: top;\n",
       "    }\n",
       "\n",
       "    .dataframe thead th {\n",
       "        text-align: right;\n",
       "    }\n",
       "</style>\n",
       "<table border=\"1\" class=\"dataframe\">\n",
       "  <thead>\n",
       "    <tr style=\"text-align: right;\">\n",
       "      <th></th>\n",
       "      <th>col1</th>\n",
       "      <th>col2</th>\n",
       "      <th>col3</th>\n",
       "    </tr>\n",
       "  </thead>\n",
       "  <tbody>\n",
       "    <tr>\n",
       "      <th>0</th>\n",
       "      <td>0.840688</td>\n",
       "      <td>9.934305</td>\n",
       "      <td>5.865184</td>\n",
       "    </tr>\n",
       "    <tr>\n",
       "      <th>1</th>\n",
       "      <td>9.843941</td>\n",
       "      <td>2.150671</td>\n",
       "      <td>2.819126</td>\n",
       "    </tr>\n",
       "    <tr>\n",
       "      <th>2</th>\n",
       "      <td>6.784651</td>\n",
       "      <td>9.604843</td>\n",
       "      <td>1.935447</td>\n",
       "    </tr>\n",
       "    <tr>\n",
       "      <th>3</th>\n",
       "      <td>5.189210</td>\n",
       "      <td>1.797510</td>\n",
       "      <td>3.785859</td>\n",
       "    </tr>\n",
       "    <tr>\n",
       "      <th>4</th>\n",
       "      <td>7.579692</td>\n",
       "      <td>6.693972</td>\n",
       "      <td>8.970185</td>\n",
       "    </tr>\n",
       "    <tr>\n",
       "      <th>5</th>\n",
       "      <td>1.273828</td>\n",
       "      <td>1.191260</td>\n",
       "      <td>6.303448</td>\n",
       "    </tr>\n",
       "    <tr>\n",
       "      <th>6</th>\n",
       "      <td>0.038025</td>\n",
       "      <td>7.285152</td>\n",
       "      <td>5.330042</td>\n",
       "    </tr>\n",
       "    <tr>\n",
       "      <th>7</th>\n",
       "      <td>2.637649</td>\n",
       "      <td>3.728558</td>\n",
       "      <td>1.200492</td>\n",
       "    </tr>\n",
       "    <tr>\n",
       "      <th>8</th>\n",
       "      <td>0.507826</td>\n",
       "      <td>7.133454</td>\n",
       "      <td>7.238071</td>\n",
       "    </tr>\n",
       "    <tr>\n",
       "      <th>9</th>\n",
       "      <td>9.186733</td>\n",
       "      <td>4.735874</td>\n",
       "      <td>6.343428</td>\n",
       "    </tr>\n",
       "  </tbody>\n",
       "</table>\n",
       "</div>"
      ],
      "text/plain": [
       "       col1      col2      col3\n",
       "0  0.840688  9.934305  5.865184\n",
       "1  9.843941  2.150671  2.819126\n",
       "2  6.784651  9.604843  1.935447\n",
       "3  5.189210  1.797510  3.785859\n",
       "4  7.579692  6.693972  8.970185\n",
       "5  1.273828  1.191260  6.303448\n",
       "6  0.038025  7.285152  5.330042\n",
       "7  2.637649  3.728558  1.200492\n",
       "8  0.507826  7.133454  7.238071\n",
       "9  9.186733  4.735874  6.343428"
      ]
     },
     "execution_count": 2,
     "metadata": {},
     "output_type": "execute_result"
    }
   ],
   "source": [
    "df = pd.DataFrame(np.random.rand(10,3)*10,columns=['col1','col2','col3'])\n",
    "df"
   ]
  },
  {
   "cell_type": "code",
   "execution_count": 4,
   "metadata": {},
   "outputs": [
    {
     "name": "stdout",
     "output_type": "stream",
     "text": [
      "col1 0    0.840688\n",
      "1    9.843941\n",
      "2    6.784651\n",
      "3    5.189210\n",
      "4    7.579692\n",
      "5    1.273828\n",
      "6    0.038025\n",
      "7    2.637649\n",
      "8    0.507826\n",
      "9    9.186733\n",
      "Name: col1, dtype: float64\n",
      "col2 0    9.934305\n",
      "1    2.150671\n",
      "2    9.604843\n",
      "3    1.797510\n",
      "4    6.693972\n",
      "5    1.191260\n",
      "6    7.285152\n",
      "7    3.728558\n",
      "8    7.133454\n",
      "9    4.735874\n",
      "Name: col2, dtype: float64\n",
      "col3 0    5.865184\n",
      "1    2.819126\n",
      "2    1.935447\n",
      "3    3.785859\n",
      "4    8.970185\n",
      "5    6.303448\n",
      "6    5.330042\n",
      "7    1.200492\n",
      "8    7.238071\n",
      "9    6.343428\n",
      "Name: col3, dtype: float64\n"
     ]
    }
   ],
   "source": [
    "for key,value in df.iteritems(): #Each column is iterated separately as key-value pair\n",
    "    print (key,value)"
   ]
  },
  {
   "cell_type": "code",
   "execution_count": 6,
   "metadata": {},
   "outputs": [
    {
     "name": "stdout",
     "output_type": "stream",
     "text": [
      "0 col1    0.840688\n",
      "col2    9.934305\n",
      "col3    5.865184\n",
      "Name: 0, dtype: float64\n",
      "1 col1    9.843941\n",
      "col2    2.150671\n",
      "col3    2.819126\n",
      "Name: 1, dtype: float64\n",
      "2 col1    6.784651\n",
      "col2    9.604843\n",
      "col3    1.935447\n",
      "Name: 2, dtype: float64\n",
      "3 col1    5.189210\n",
      "col2    1.797510\n",
      "col3    3.785859\n",
      "Name: 3, dtype: float64\n",
      "4 col1    7.579692\n",
      "col2    6.693972\n",
      "col3    8.970185\n",
      "Name: 4, dtype: float64\n",
      "5 col1    1.273828\n",
      "col2    1.191260\n",
      "col3    6.303448\n",
      "Name: 5, dtype: float64\n",
      "6 col1    0.038025\n",
      "col2    7.285152\n",
      "col3    5.330042\n",
      "Name: 6, dtype: float64\n",
      "7 col1    2.637649\n",
      "col2    3.728558\n",
      "col3    1.200492\n",
      "Name: 7, dtype: float64\n",
      "8 col1    0.507826\n",
      "col2    7.133454\n",
      "col3    7.238071\n",
      "Name: 8, dtype: float64\n",
      "9 col1    9.186733\n",
      "col2    4.735874\n",
      "col3    6.343428\n",
      "Name: 9, dtype: float64\n"
     ]
    }
   ],
   "source": [
    "for row_index,row in df.iterrows(): #Each row is iterated separately as row_index-row_value pair\n",
    "    print (row_index,row)"
   ]
  },
  {
   "cell_type": "code",
   "execution_count": 9,
   "metadata": {},
   "outputs": [
    {
     "name": "stdout",
     "output_type": "stream",
     "text": [
      "Pandas(Index=0, col1=0.840688046656114, col2=9.934305241958763, col3=5.865184018546016)\n",
      "Pandas(Index=1, col1=9.84394111521246, col2=2.1506705968298725, col3=2.8191257947653914)\n",
      "Pandas(Index=2, col1=6.784651300531147, col2=9.60484274728095, col3=1.9354472340384454)\n",
      "Pandas(Index=3, col1=5.189210412160429, col2=1.797510452951958, col3=3.7858590087330377)\n",
      "Pandas(Index=4, col1=7.579692163998341, col2=6.693971560824686, col3=8.970184652084397)\n",
      "Pandas(Index=5, col1=1.273827601010492, col2=1.191259892947153, col3=6.303447755352307)\n",
      "Pandas(Index=6, col1=0.0380248504269165, col2=7.285151570443309, col3=5.330041929849186)\n",
      "Pandas(Index=7, col1=2.6376493238821963, col2=3.7285580134181586, col3=1.2004920492434135)\n",
      "Pandas(Index=8, col1=0.5078262256160937, col2=7.133454152682139, col3=7.238071433253585)\n",
      "Pandas(Index=9, col1=9.186733378605911, col2=4.735874153855615, col3=6.343427553701552)\n"
     ]
    }
   ],
   "source": [
    "for row in df.itertuples(): #returns an iterator yeilding a named tuple for each row\n",
    "    print (row)"
   ]
  },
  {
   "cell_type": "code",
   "execution_count": null,
   "metadata": {},
   "outputs": [],
   "source": []
  }
 ],
 "metadata": {
  "kernelspec": {
   "display_name": "Python 3",
   "language": "python",
   "name": "python3"
  },
  "language_info": {
   "codemirror_mode": {
    "name": "ipython",
    "version": 3
   },
   "file_extension": ".py",
   "mimetype": "text/x-python",
   "name": "python",
   "nbconvert_exporter": "python",
   "pygments_lexer": "ipython3",
   "version": "3.7.3"
  }
 },
 "nbformat": 4,
 "nbformat_minor": 2
}
